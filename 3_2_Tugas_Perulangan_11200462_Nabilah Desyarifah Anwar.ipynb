{
 "cells": [
  {
   "cell_type": "code",
   "execution_count": 1,
   "id": "0168410a",
   "metadata": {},
   "outputs": [
    {
     "name": "stdout",
     "output_type": "stream",
     "text": [
      "Ini adalah element count :  1\n",
      "Ini adalah element count :  2\n",
      "Ini adalah element count :  3\n",
      "Ini adalah element count :  4\n",
      "Ini adalah element count :  5\n"
     ]
    }
   ],
   "source": [
    "# Jawaban Tugas 3.2.1\n",
    "# Tugas 3.2.1\n",
    "count=[1,2,3,4,5] #elemen list\n",
    "\n",
    "for number in count: #looping untuk menampilkan semua elemen pada count\n",
    "    print(\"Ini adalah element count : \", number) #menampilkan elemen list pada count"
   ]
  },
  {
   "cell_type": "code",
   "execution_count": 2,
   "id": "b6b43d51",
   "metadata": {},
   "outputs": [
    {
     "name": "stdout",
     "output_type": "stream",
     "text": [
      "Ini Adalah Angka :  1\n",
      "Ini Adalah Angka :  2\n",
      "Ini Adalah Angka :  3\n",
      "Ini Adalah Angka :  4\n",
      "Ini Adalah Angka :  5\n",
      "Ini Adalah Angka :  6\n",
      "Ini Adalah Angka :  7\n",
      "Ini Adalah Angka :  8\n",
      "Ini Adalah Angka :  9\n",
      "Ini Adalah Angka :  10\n"
     ]
    }
   ],
   "source": [
    "#Jawaban Tugas 3.2.2.1\n",
    "\n",
    "angka=[1,2,3,4,5,6,7,8,9,10]\n",
    "\n",
    "for number in angka: \n",
    "    print(\"Ini Adalah Angka : \", number)"
   ]
  },
  {
   "cell_type": "code",
   "execution_count": 3,
   "id": "e34adf8e",
   "metadata": {},
   "outputs": [
    {
     "name": "stdout",
     "output_type": "stream",
     "text": [
      "Ini Adalah Angka :  -20\n",
      "Ini Adalah Angka :  -21\n",
      "Ini Adalah Angka :  -22\n",
      "Ini Adalah Angka :  -23\n",
      "Ini Adalah Angka :  -24\n",
      "Ini Adalah Angka :  -25\n",
      "Ini Adalah Angka :  -26\n",
      "Ini Adalah Angka :  -27\n",
      "Ini Adalah Angka :  -28\n",
      "Ini Adalah Angka :  -29\n",
      "Ini Adalah Angka :  -30\n",
      "Ini Adalah Angka :  -31\n",
      "Ini Adalah Angka :  -32\n",
      "Ini Adalah Angka :  -33\n",
      "Ini Adalah Angka :  -34\n",
      "Ini Adalah Angka :  -35\n",
      "Ini Adalah Angka :  -36\n",
      "Ini Adalah Angka :  -37\n",
      "Ini Adalah Angka :  -38\n",
      "Ini Adalah Angka :  -39\n",
      "Ini Adalah Angka :  -40\n",
      "Ini Adalah Angka :  -41\n",
      "Ini Adalah Angka :  -42\n",
      "Ini Adalah Angka :  -43\n",
      "Ini Adalah Angka :  -44\n",
      "Ini Adalah Angka :  -45\n",
      "Ini Adalah Angka :  -46\n",
      "Ini Adalah Angka :  -47\n",
      "Ini Adalah Angka :  -48\n",
      "Ini Adalah Angka :  -49\n",
      "Ini Adalah Angka :  -50\n"
     ]
    }
   ],
   "source": [
    "#Jawaban Tugas 3.2.2.2\n",
    "\n",
    "angka=[-20,-21,-22,-23,-24,-25,-26,-27,-28,-29,-30,-31,-32,-33,-34,-35,-36,-37,-38,-39,-40,-41,-42,-43,-44,-45,-46,-47,-48,-49,-50] \n",
    "\n",
    "for number in angka: \n",
    "    print(\"Ini Adalah Angka : \", number)"
   ]
  },
  {
   "cell_type": "code",
   "execution_count": 6,
   "id": "8af3cf3b",
   "metadata": {},
   "outputs": [
    {
     "name": "stdout",
     "output_type": "stream",
     "text": [
      "Angka ganjil 1\n",
      "Angka genap 2\n",
      "Angka ganjil 3\n",
      "Angka genap 4\n",
      "Angka ganjil 5\n",
      "Angka genap 6\n",
      "Angka ganjil 7\n",
      "Angka genap 8\n",
      "Angka ganjil 9\n",
      "Angka genap 10\n",
      "Angka ganjil 11\n",
      "Angka genap 12\n",
      "Angka ganjil 13\n"
     ]
    }
   ],
   "source": [
    "#Jawaban Tugas 3.2.2.3\n",
    "\n",
    "for i in range(1,14):\n",
    "    if (i%2==0):\n",
    "        print(\"Angka genap\", i)\n",
    "    else:\n",
    "        print(\"Angka ganjil\", i)"
   ]
  }
 ],
 "metadata": {
  "kernelspec": {
   "display_name": "Python 3 (ipykernel)",
   "language": "python",
   "name": "python3"
  },
  "language_info": {
   "codemirror_mode": {
    "name": "ipython",
    "version": 3
   },
   "file_extension": ".py",
   "mimetype": "text/x-python",
   "name": "python",
   "nbconvert_exporter": "python",
   "pygments_lexer": "ipython3",
   "version": "3.9.5"
  }
 },
 "nbformat": 4,
 "nbformat_minor": 5
}
