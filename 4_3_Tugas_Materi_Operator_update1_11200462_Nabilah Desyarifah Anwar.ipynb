{
 "cells": [
  {
   "cell_type": "code",
   "execution_count": 1,
   "id": "3da8690d",
   "metadata": {},
   "outputs": [
    {
     "name": "stdout",
     "output_type": "stream",
     "text": [
      "Masukan Bilangan :10\n",
      " 10 Merupakan Bilangan Genap\n"
     ]
    }
   ],
   "source": [
    "##Jawaban Tugas Praktek 3.3\n",
    "bil = int(input(\"Masukan Bilangan :\"))\n",
    "\n",
    "if bil % 2 == 0:\n",
    "    print(\" %d Merupakan Bilangan Genap\" % bil)\n",
    "else:\n",
    "    print(\"%d Merupakan Bilangan Ganjil\" % bil)"
   ]
  },
  {
   "cell_type": "code",
   "execution_count": 2,
   "id": "18477f98",
   "metadata": {},
   "outputs": [
    {
     "name": "stdout",
     "output_type": "stream",
     "text": [
      "Masukan Bilangan :13\n",
      "13 Merupakan Bilangan Ganjil\n"
     ]
    }
   ],
   "source": [
    "##Jawaban Tugas Praktek 3.3\n",
    "bil = int(input(\"Masukan Bilangan :\"))\n",
    "\n",
    "if bil % 2 == 0:\n",
    "    print(\" %d Merupakan Bilangan Genap\" % bil)\n",
    "else:\n",
    "    print(\"%d Merupakan Bilangan Ganjil\" % bil)"
   ]
  }
 ],
 "metadata": {
  "kernelspec": {
   "display_name": "Python 3 (ipykernel)",
   "language": "python",
   "name": "python3"
  },
  "language_info": {
   "codemirror_mode": {
    "name": "ipython",
    "version": 3
   },
   "file_extension": ".py",
   "mimetype": "text/x-python",
   "name": "python",
   "nbconvert_exporter": "python",
   "pygments_lexer": "ipython3",
   "version": "3.9.5"
  }
 },
 "nbformat": 4,
 "nbformat_minor": 5
}
