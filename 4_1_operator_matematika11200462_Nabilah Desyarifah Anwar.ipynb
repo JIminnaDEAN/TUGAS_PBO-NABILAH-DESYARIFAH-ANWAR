{
 "cells": [
  {
   "cell_type": "code",
   "execution_count": 1,
   "id": "9d2e6b1e",
   "metadata": {},
   "outputs": [
    {
     "name": "stdout",
     "output_type": "stream",
     "text": [
      "Hasil penjumlahan dan b adalah 15\n",
      "Selisih a dan b adalah : 5\n",
      "Hasil perkalian a dan b adalah : 50\n",
      "Hasil  pembagian a dan b adalah: 2.0\n"
     ]
    }
   ],
   "source": [
    "##Jawaban Tugas Praktek 3.1\n",
    "a=10\n",
    "b=5\n",
    "selisih = a-b\n",
    "jumlah = a+b\n",
    "kali = a*b\n",
    "bagi = a/b\n",
    "print(\"Hasil penjumlahan dan b adalah\", jumlah)\n",
    "print(\"Selisih a dan b adalah :\",selisih)\n",
    "print(\"Hasil perkalian a dan b adalah :\",kali)\n",
    "print(\"Hasil  pembagian a dan b adalah:\",bagi)"
   ]
  }
 ],
 "metadata": {
  "kernelspec": {
   "display_name": "Python 3 (ipykernel)",
   "language": "python",
   "name": "python3"
  },
  "language_info": {
   "codemirror_mode": {
    "name": "ipython",
    "version": 3
   },
   "file_extension": ".py",
   "mimetype": "text/x-python",
   "name": "python",
   "nbconvert_exporter": "python",
   "pygments_lexer": "ipython3",
   "version": "3.9.5"
  }
 },
 "nbformat": 4,
 "nbformat_minor": 5
}
