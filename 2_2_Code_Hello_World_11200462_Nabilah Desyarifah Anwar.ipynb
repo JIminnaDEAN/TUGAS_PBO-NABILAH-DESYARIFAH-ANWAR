{
 "cells": [
  {
   "cell_type": "code",
   "execution_count": 1,
   "id": "04771895",
   "metadata": {},
   "outputs": [
    {
     "name": "stdout",
     "output_type": "stream",
     "text": [
      "Hello World\n"
     ]
    }
   ],
   "source": [
    "print (\"Hello World\")"
   ]
  },
  {
   "cell_type": "code",
   "execution_count": 2,
   "id": "d0ae569d",
   "metadata": {},
   "outputs": [
    {
     "name": "stdout",
     "output_type": "stream",
     "text": [
      "25\n"
     ]
    }
   ],
   "source": [
    "print(10*2+5)"
   ]
  },
  {
   "cell_type": "code",
   "execution_count": 3,
   "id": "7391d19a",
   "metadata": {},
   "outputs": [
    {
     "name": "stdout",
     "output_type": "stream",
     "text": [
      "2023 Aku kaya mulia\n"
     ]
    }
   ],
   "source": [
    "print(\"2023 Aku kaya mulia\")"
   ]
  },
  {
   "cell_type": "code",
   "execution_count": 4,
   "id": "7743d86a",
   "metadata": {},
   "outputs": [
    {
     "name": "stdout",
     "output_type": "stream",
     "text": [
      "Nabilah Desyarfah Anwar\n"
     ]
    }
   ],
   "source": [
    "print(\"Nabilah Desyarfah Anwar\")"
   ]
  },
  {
   "cell_type": "code",
   "execution_count": null,
   "id": "5dd1694c",
   "metadata": {},
   "outputs": [],
   "source": []
  }
 ],
 "metadata": {
  "kernelspec": {
   "display_name": "Python 3 (ipykernel)",
   "language": "python",
   "name": "python3"
  },
  "language_info": {
   "codemirror_mode": {
    "name": "ipython",
    "version": 3
   },
   "file_extension": ".py",
   "mimetype": "text/x-python",
   "name": "python",
   "nbconvert_exporter": "python",
   "pygments_lexer": "ipython3",
   "version": "3.9.5"
  }
 },
 "nbformat": 4,
 "nbformat_minor": 5
}
